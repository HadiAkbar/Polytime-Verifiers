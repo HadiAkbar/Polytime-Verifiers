{
  "nbformat": 4,
  "nbformat_minor": 0,
  "metadata": {
    "colab": {
      "provenance": []
    },
    "kernelspec": {
      "name": "python3",
      "display_name": "Python 3"
    },
    "language_info": {
      "name": "python"
    }
  },
  "cells": [
    {
      "cell_type": "markdown",
      "source": [
        "---\n",
        "\n",
        "<p align=\"center\">\n",
        "  <strong>HADI AKBAR</strong><br>\n",
        "  📧 contact@hadiakbar.com\n",
        "</p>\n",
        "\n",
        "---\n",
        "\n",
        "### Polytime Verifiers for NP Problems\n",
        "- PACKING  \n",
        "- SUBSETSUM  \n",
        "- PARTITION\n",
        "\n",
        "---"
      ],
      "metadata": {
        "id": "o7tlM3z6eQWs"
      }
    },
    {
      "cell_type": "markdown",
      "source": [
        "---\n",
        "\n",
        "### Packing – Polytime Verifier\n",
        "\n",
        "This verifier checks if the selected subset of weights has a total weight between the lower and upper bounds (L ≤ total ≤ H).\n",
        "\n",
        "---"
      ],
      "metadata": {
        "id": "F4MGEOKme-s0"
      }
    },
    {
      "cell_type": "code",
      "source": [
        "def packing_verifier(instance, solution, hint):\n",
        "    # if solution or hint are longer than instance\n",
        "    if len(solution) > len(instance) or len(hint) > len(instance):\n",
        "        return \"unsure\"\n",
        "\n",
        "    # split the instance into 3 parts: weights list, min total (L), and max (H)\n",
        "    parts = instance.split(\";\")\n",
        "    weights = list(map(int, parts[0].split()))\n",
        "    min_weight = int(parts[1])  # L\n",
        "    max_weight = int(parts[2])  # H\n",
        "\n",
        "    # turn the selected weights (solution) into a list of integers\n",
        "    selected = list(map(int, solution.split()))\n",
        "\n",
        "    # check that every selected weight actually exists in the original list\n",
        "    for w in selected:\n",
        "        if w not in weights:\n",
        "            return \"unsure\"\n",
        "\n",
        "    # calculate the total weight of the selected items\n",
        "    total = sum(selected)\n",
        "\n",
        "    # check if total is within the required range\n",
        "    if min_weight <= total <= max_weight:\n",
        "        return \"correct\"\n",
        "    else:\n",
        "        return \"unsure\""
      ],
      "metadata": {
        "id": "3nYpBUNWSsaq"
      },
      "execution_count": 23,
      "outputs": []
    },
    {
      "cell_type": "code",
      "source": [
        "# Test 1: valid selection, total = 4 + 6 + 16 = 26\n",
        "# this test case is within the range\n",
        "pack_i1 = \"12 4 6 24 4 16 ; 20 ; 27\"\n",
        "pack_s1 = \"4 6 16\"\n",
        "print(\"Packing Test Case 1\")\n",
        "print(packing_verifier(pack_i1, pack_s1, \"\"))\n",
        "\n",
        "# Test 2: total = 4 + 4 = 8 (less than 20)\n",
        "# this test case is less than 20\n",
        "pack_i2 = \"12 4 6 24 4 16 ; 20 ; 27\"\n",
        "pack_s2 = \"4 4\"\n",
        "print(\"\\nPacking Test Case 2\")\n",
        "print(packing_verifier(pack_i2, pack_s2, \"\"))\n",
        "\n",
        "# Test 3: 7 not in the original list\n",
        "# a number is not in the list\n",
        "pack_i3 = \"12 4 6 24 4 16 ; 20 ; 27\"\n",
        "pack_s3 = \"4 7\"\n",
        "print(\"\\nPacking Test Case 3\")\n",
        "print(packing_verifier(pack_i3, pack_s3, \"\"))"
      ],
      "metadata": {
        "colab": {
          "base_uri": "https://localhost:8080/"
        },
        "id": "emaWIazLTzS_",
        "outputId": "c49dee60-6085-4ad4-8f4a-7dbbce88c2dc"
      },
      "execution_count": 24,
      "outputs": [
        {
          "output_type": "stream",
          "name": "stdout",
          "text": [
            "Packing Test Case 1\n",
            "correct\n",
            "\n",
            "Packing Test Case 2\n",
            "unsure\n",
            "\n",
            "Packing Test Case 3\n",
            "unsure\n"
          ]
        }
      ]
    },
    {
      "cell_type": "markdown",
      "source": [
        "---\n",
        "\n",
        "### Subset Sum – Polytime Verifier\n",
        "\n",
        "This verifier checks if the selected subset of numbers adds up exactly to the target sum.\n",
        "\n",
        "---"
      ],
      "metadata": {
        "id": "j7W1qp0TWIn3"
      }
    },
    {
      "cell_type": "code",
      "source": [
        "def subsetsum_verifier(data, ans, hint):\n",
        "    # if solution or hint are longer than instance\n",
        "    if len(ans) > len(data) or len(hint) > len(data):\n",
        "        return \"unsure\"\n",
        "\n",
        "    # split data into numbers list and target T\n",
        "    parts = data.split(\";\")\n",
        "    nums = list(map(int, parts[0].split()))\n",
        "    target = int(parts[1])\n",
        "\n",
        "    # turn answer into a list of selected numbers\n",
        "    sel = list(map(int, ans.split()))\n",
        "\n",
        "    # check that every selected number exists in original list\n",
        "    for x in sel:\n",
        "        if x not in nums:\n",
        "            return \"unsure\"\n",
        "\n",
        "    # check if total equals the target\n",
        "    total = sum(sel)\n",
        "    if total == target:\n",
        "        return \"correct\"\n",
        "    return \"unsure\""
      ],
      "metadata": {
        "id": "hZ1ST3D5WSqK"
      },
      "execution_count": 25,
      "outputs": []
    },
    {
      "cell_type": "code",
      "source": [
        "# Test 1: 4 + 5 = 9 → matches target\n",
        "# this test case adds up exactly to the target\n",
        "ss_i1 = \"3 4 5 6 ; 9\"\n",
        "ss_s1 = \"4 5\"\n",
        "print(\"Subset Sum Test Case 1\")\n",
        "print(subsetsum_verifier(ss_i1, ss_s1, \"\"))\n",
        "\n",
        "# Test 2: 2 + 3 = 5 → less than target 6\n",
        "# this test case doesn't reach the target\n",
        "ss_i2 = \"1 2 3 4 ; 6\"\n",
        "ss_s2 = \"2 3\"\n",
        "print(\"\\nSubset Sum Test Case 2\")\n",
        "print(subsetsum_verifier(ss_i2, ss_s2, \"\"))\n",
        "\n",
        "# Test 3: 7 not in original list\n",
        "# a number is not in the list\n",
        "ss_i3 = \"2 4 6 8 ; 10\"\n",
        "ss_s3 = \"2 8 7\"\n",
        "print(\"\\nSubset Sum Test Case 3\")\n",
        "print(subsetsum_verifier(ss_i3, ss_s3, \"\"))"
      ],
      "metadata": {
        "colab": {
          "base_uri": "https://localhost:8080/"
        },
        "id": "kRXJVzO8W1I0",
        "outputId": "54516db6-59b5-43ed-b7e0-4d9673956e18"
      },
      "execution_count": 26,
      "outputs": [
        {
          "output_type": "stream",
          "name": "stdout",
          "text": [
            "Subset Sum Test Case 1\n",
            "correct\n",
            "\n",
            "Subset Sum Test Case 2\n",
            "unsure\n",
            "\n",
            "Subset Sum Test Case 3\n",
            "unsure\n"
          ]
        }
      ]
    },
    {
      "cell_type": "markdown",
      "source": [
        "---\n",
        "\n",
        "### Partition – Polytime Verifier\n",
        "\n",
        "This verifier checks if the selected subset divides the original list into two groups with equal total weight.\n",
        "\n",
        "---"
      ],
      "metadata": {
        "id": "utLZqqM1W_40"
      }
    },
    {
      "cell_type": "code",
      "source": [
        "def partition_verifier(data, ans, hint):\n",
        "    # reject long answers or hints\n",
        "    if len(ans) > len(data) or len(hint) > len(data):\n",
        "        return \"unsure\"\n",
        "\n",
        "    # convert input string into a list of integers\n",
        "    weights = list(map(int, data.split()))\n",
        "    selected = list(map(int, ans.split()))\n",
        "\n",
        "    # check if all selected weights exist in the input list\n",
        "    temp = weights.copy()\n",
        "    for w in selected:\n",
        "        if w in temp:\n",
        "            temp.remove(w)\n",
        "        else:\n",
        "            return \"unsure\"\n",
        "\n",
        "    # check if selected weights sum to exactly half of the total\n",
        "    total = sum(weights)\n",
        "    if total % 2 != 0:\n",
        "        return \"unsure\"  # can't split odd total\n",
        "\n",
        "    if sum(selected) == total // 2:\n",
        "        return \"correct\"\n",
        "    return \"unsure\""
      ],
      "metadata": {
        "id": "oJuZiQwQXFff"
      },
      "execution_count": 27,
      "outputs": []
    },
    {
      "cell_type": "code",
      "source": [
        "# Test 1: selected = 3 8, remaining = 5 6 → both sum to 11\n",
        "# this test case is a valid partition\n",
        "part_i1 = \"3 5 8 6\"\n",
        "part_s1 = \"3 8\"\n",
        "print(\"Partition Test Case 1\")\n",
        "print(partition_verifier(part_i1, part_s1, \"\"))\n",
        "\n",
        "# Test 2: selected = 5 5, remaining = 1 11 → not equal\n",
        "# this test case does not balance both sides\n",
        "part_i2 = \"1 5 5 11\"\n",
        "part_s2 = \"5 5\"\n",
        "print(\"\\nPartition Test Case 2\")\n",
        "print(partition_verifier(part_i2, part_s2, \"\"))\n",
        "\n",
        "# Test 3: selected = 2 3 3 but 3 only exists once\n",
        "# a number is used more times than it exists in the list\n",
        "part_i3 = \"2 3 4 5\"\n",
        "part_s3 = \"2 3 3\"\n",
        "print(\"\\nPartition Test Case 3\")\n",
        "print(partition_verifier(part_i3, part_s3, \"\"))"
      ],
      "metadata": {
        "colab": {
          "base_uri": "https://localhost:8080/"
        },
        "id": "hFQPGKJIYM4e",
        "outputId": "31bc3849-ddec-49ff-f80d-a232c090c3a6"
      },
      "execution_count": 28,
      "outputs": [
        {
          "output_type": "stream",
          "name": "stdout",
          "text": [
            "Partition Test Case 1\n",
            "correct\n",
            "\n",
            "Partition Test Case 2\n",
            "unsure\n",
            "\n",
            "Partition Test Case 3\n",
            "unsure\n"
          ]
        }
      ]
    }
  ]
}
